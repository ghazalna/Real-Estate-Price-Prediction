{
 "cells": [
  {
   "cell_type": "code",
   "execution_count": 2,
   "id": "3eec0abc-dad6-48ef-84ba-c9f636f01977",
   "metadata": {
    "tags": []
   },
   "outputs": [
    {
     "name": "stdout",
     "output_type": "stream",
     "text": [
      "Requirement already satisfied: dash in ./anaconda3/lib/python3.11/site-packages (2.16.1)\n",
      "Requirement already satisfied: Flask<3.1,>=1.0.4 in ./anaconda3/lib/python3.11/site-packages (from dash) (2.2.2)\n",
      "Requirement already satisfied: Werkzeug<3.1 in ./anaconda3/lib/python3.11/site-packages (from dash) (2.2.3)\n",
      "Requirement already satisfied: plotly>=5.0.0 in ./anaconda3/lib/python3.11/site-packages (from dash) (5.9.0)\n",
      "Requirement already satisfied: dash-html-components==2.0.0 in ./anaconda3/lib/python3.11/site-packages (from dash) (2.0.0)\n",
      "Requirement already satisfied: dash-core-components==2.0.0 in ./anaconda3/lib/python3.11/site-packages (from dash) (2.0.0)\n",
      "Requirement already satisfied: dash-table==5.0.0 in ./anaconda3/lib/python3.11/site-packages (from dash) (5.0.0)\n",
      "Requirement already satisfied: importlib-metadata in ./anaconda3/lib/python3.11/site-packages (from dash) (6.0.0)\n",
      "Requirement already satisfied: typing-extensions>=4.1.1 in ./anaconda3/lib/python3.11/site-packages (from dash) (4.6.3)\n",
      "Requirement already satisfied: requests in ./anaconda3/lib/python3.11/site-packages (from dash) (2.31.0)\n",
      "Requirement already satisfied: retrying in ./anaconda3/lib/python3.11/site-packages (from dash) (1.3.4)\n",
      "Requirement already satisfied: nest-asyncio in ./anaconda3/lib/python3.11/site-packages (from dash) (1.5.6)\n",
      "Requirement already satisfied: setuptools in ./anaconda3/lib/python3.11/site-packages (from dash) (67.8.0)\n",
      "Requirement already satisfied: Jinja2>=3.0 in ./anaconda3/lib/python3.11/site-packages (from Flask<3.1,>=1.0.4->dash) (3.1.2)\n",
      "Requirement already satisfied: itsdangerous>=2.0 in ./anaconda3/lib/python3.11/site-packages (from Flask<3.1,>=1.0.4->dash) (2.0.1)\n",
      "Requirement already satisfied: click>=8.0 in ./anaconda3/lib/python3.11/site-packages (from Flask<3.1,>=1.0.4->dash) (8.0.4)\n",
      "Requirement already satisfied: tenacity>=6.2.0 in ./anaconda3/lib/python3.11/site-packages (from plotly>=5.0.0->dash) (8.2.2)\n",
      "Requirement already satisfied: MarkupSafe>=2.1.1 in ./anaconda3/lib/python3.11/site-packages (from Werkzeug<3.1->dash) (2.1.1)\n",
      "Requirement already satisfied: zipp>=0.5 in ./anaconda3/lib/python3.11/site-packages (from importlib-metadata->dash) (3.11.0)\n",
      "Requirement already satisfied: charset-normalizer<4,>=2 in ./anaconda3/lib/python3.11/site-packages (from requests->dash) (2.0.4)\n",
      "Requirement already satisfied: idna<4,>=2.5 in ./anaconda3/lib/python3.11/site-packages (from requests->dash) (3.4)\n",
      "Requirement already satisfied: urllib3<3,>=1.21.1 in ./anaconda3/lib/python3.11/site-packages (from requests->dash) (1.26.16)\n",
      "Requirement already satisfied: certifi>=2017.4.17 in ./anaconda3/lib/python3.11/site-packages (from requests->dash) (2023.7.22)\n",
      "Requirement already satisfied: six>=1.7.0 in ./anaconda3/lib/python3.11/site-packages (from retrying->dash) (1.16.0)\n"
     ]
    }
   ],
   "source": [
    "!pip install dash\n",
    "import dash"
   ]
  },
  {
   "cell_type": "code",
   "execution_count": 84,
   "id": "e3046359-12f3-4744-ac40-93e3aea1f822",
   "metadata": {
    "tags": []
   },
   "outputs": [],
   "source": [
    "import joblib\n",
    "\n",
    "def load_model():\n",
    "    # Load the linear regression model from the file\n",
    "    model = joblib.load('Real Estate Price Prediction_model.joblib') \n",
    "    return model\n"
   ]
  },
  {
   "cell_type": "code",
   "execution_count": 86,
   "id": "aa6235a3-eee2-418e-bc51-ddc18b612aea",
   "metadata": {
    "tags": []
   },
   "outputs": [],
   "source": [
    "# Load the linear regression model\n",
    "model = load_model()"
   ]
  },
  {
   "cell_type": "code",
   "execution_count": 88,
   "id": "c2028405-6e12-46ec-b456-dc51f010f80d",
   "metadata": {
    "tags": []
   },
   "outputs": [],
   "source": [
    "from dash import html, dcc, Input, Output, State \n",
    "import pandas as pd "
   ]
  },
  {
   "cell_type": "code",
   "execution_count": 90,
   "id": "3820d387-b7ab-4c08-9164-aaa38827b9c1",
   "metadata": {
    "tags": []
   },
   "outputs": [],
   "source": [
    "#Initialize the Dash app\n",
    "app = dash.Dash(__name__)"
   ]
  },
  {
   "cell_type": "code",
   "execution_count": 92,
   "id": "4c4ed014-6e08-46cb-9bc9-ff9454b1e852",
   "metadata": {
    "tags": []
   },
   "outputs": [],
   "source": [
    "# Import necessary libraries\n",
    "import dash\n",
    "from dash import dcc, html\n",
    "\n",
    "# Define the layout of the app\n",
    "app.layout = html.Div(\n",
    "    [\n",
    "        html.Div(\n",
    "            [\n",
    "                html.H1(\"Real Estate Price Prediction\", style={\"text-align\": \"center\", \"color\": \"#007BFF\"}),\n",
    "                html.Div(\n",
    "                    [\n",
    "                        dcc.Input(\n",
    "                            id=\"distance_to_mrt\",\n",
    "                            type=\"number\",\n",
    "                            placeholder=\"Distance to MRT Station (meters)\",\n",
    "                            style={\"margin\": \"10px\", \"padding\": \"10px\", \"border-radius\": \"5px\"},\n",
    "                        ),\n",
    "                        dcc.Input(\n",
    "                            id=\"num_convenience_stores\",\n",
    "                            type=\"number\",\n",
    "                            placeholder=\"Number of Convenience Stores\",\n",
    "                            style={\"margin\": \"10px\", \"padding\": \"10px\", \"border-radius\": \"5px\"},\n",
    "                        ),\n",
    "                        dcc.Input(\n",
    "                            id=\"latitude\",\n",
    "                            type=\"number\",\n",
    "                            placeholder=\"Latitude\",\n",
    "                            style={\"margin\": \"10px\", \"padding\": \"10px\", \"border-radius\": \"5px\"},\n",
    "                        ),\n",
    "                        dcc.Input(\n",
    "                            id=\"longitude\",\n",
    "                            type=\"number\",\n",
    "                            placeholder=\"Longitude\",\n",
    "                            style={\"margin\": \"10px\", \"padding\": \"10px\", \"border-radius\": \"5px\"},\n",
    "                        ),\n",
    "                        html.Button(\n",
    "                            \"Predict Price\",\n",
    "                            id=\"predict_button\",\n",
    "                            n_clicks=0,\n",
    "                            style={\n",
    "                                \"margin\": \"10px\",\n",
    "                                \"padding\": \"10px\",\n",
    "                                \"background-color\": \"#007BFF\",\n",
    "                                \"color\": \"white\",\n",
    "                                \"border\": \"none\",\n",
    "                                \"border-radius\": \"5px\",\n",
    "                                \"cursor\": \"pointer\",\n",
    "                            },\n",
    "                        ),\n",
    "                    ],\n",
    "                    style={\"text-align\": \"center\"},\n",
    "                ),\n",
    "                html.Div(\n",
    "                    id=\"prediction_output\",\n",
    "                    style={\"text-align\": \"center\", \"font-size\": \"20px\", \"margin-top\": \"20px\", \"color\": \"#007BFF\"},\n",
    "                ),\n",
    "            ],\n",
    "            style={\n",
    "                \"width\": \"50%\",\n",
    "                \"margin\": \"0 auto\",\n",
    "                \"border\": \"2px solid #007BFF\",\n",
    "                \"padding\": \"20px\",\n",
    "                \"border-radius\": \"10px\",\n",
    "                \"background-color\": \"#f8f9fa\",\n",
    "                \"box-shadow\": \"0 4px 8px rgba(0, 0, 0, 0.1)\",\n",
    "            },\n",
    "        )\n",
    "    ],\n",
    "    style={\"background-color\": \"#f0f8ff\", \"height\": \"100vh\", \"display\": \"flex\", \"justify-content\": \"center\", \"align-items\": \"center\"},\n",
    ")\n"
   ]
  },
  {
   "cell_type": "code",
   "execution_count": 94,
   "id": "83dabd93-9c75-4143-8841-44eb6a849742",
   "metadata": {
    "tags": []
   },
   "outputs": [],
   "source": [
    "# Define callback to update output\n",
    "@app.callback(\n",
    "    Output('prediction_output', 'children'),\n",
    "    [Input('predict_button', 'n_clicks')],\n",
    "    [State('distance_to_mrt', 'value'), \n",
    "     State('num_convenience_stores', 'value'),\n",
    "     State('latitude', 'value'),\n",
    "     State('longitude', 'value')]\n",
    ")\n",
    "def update_output(n_clicks, distance_to_mrt, num_convenience_stores, latitude, longitude):\n",
    "    try:\n",
    "        if n_clicks > 0 and all(v is not None for v in [distance_to_mrt, num_convenience_stores, latitude, longitude]):\n",
    "            # Prepare the feature vector\n",
    "            features = pd.DataFrame([[distance_to_mrt, num_convenience_stores, latitude, longitude]], \n",
    "                                    columns=['Distance to the nearest MRT station', \n",
    "                                             'Number of convenience stores', \n",
    "                                             'Latitude', \n",
    "                                             'Longitude'])\n",
    "            \n",
    "            # Print debug information\n",
    "            print(\"Features:\")\n",
    "            print(features)\n",
    "\n",
    "            # Predict using your machine learning model\n",
    "            prediction = model.predict(features)[0]\n",
    "\n",
    "            # Ensure prediction is a scalar value\n",
    "            prediction_scalar = prediction.item() if hasattr(prediction, 'item') else prediction\n",
    "\n",
    "            # Format the prediction for display\n",
    "            formatted_prediction = f'Predicted House Price of Unit Area: {prediction_scalar:.2f}'\n",
    "            \n",
    "            return formatted_prediction\n",
    "        elif n_clicks > 0:\n",
    "            return 'Please enter all values to get a prediction'\n",
    "        return ''\n",
    "    except Exception as e:\n",
    "        print(f\"Error in callback: {str(e)}\")\n",
    "        import traceback\n",
    "        print(traceback.format_exc())\n",
    "        return f'Error occurred: {str(e)}'\n"
   ]
  },
  {
   "cell_type": "code",
   "execution_count": 96,
   "id": "19c8cfe6-3bd8-4df8-9abb-1d84d410c891",
   "metadata": {
    "tags": []
   },
   "outputs": [
    {
     "data": {
      "text/html": [
       "\n",
       "        <iframe\n",
       "            width=\"100%\"\n",
       "            height=\"650\"\n",
       "            src=\"http://127.0.0.1:8050/\"\n",
       "            frameborder=\"0\"\n",
       "            allowfullscreen\n",
       "            \n",
       "        ></iframe>\n",
       "        "
      ],
      "text/plain": [
       "<IPython.lib.display.IFrame at 0x177985050>"
      ]
     },
     "metadata": {},
     "output_type": "display_data"
    }
   ],
   "source": [
    "# Run the app\n",
    "if __name__ == '__main__':\n",
    "    app.run_server(debug=True)"
   ]
  },
  {
   "cell_type": "code",
   "execution_count": null,
   "id": "ff92c6bc-3910-4f0f-b9d1-39593a24795a",
   "metadata": {},
   "outputs": [],
   "source": []
  }
 ],
 "metadata": {
  "kernelspec": {
   "display_name": "Python 3 (ipykernel)",
   "language": "python",
   "name": "python3"
  },
  "language_info": {
   "codemirror_mode": {
    "name": "ipython",
    "version": 3
   },
   "file_extension": ".py",
   "mimetype": "text/x-python",
   "name": "python",
   "nbconvert_exporter": "python",
   "pygments_lexer": "ipython3",
   "version": "3.11.5"
  }
 },
 "nbformat": 4,
 "nbformat_minor": 5
}
